{
 "cells": [
  {
   "cell_type": "code",
   "execution_count": 3,
   "metadata": {},
   "outputs": [],
   "source": [
    "import pandas as pd\n",
    "from itertools import chain\n",
    "from matplotlib import pyplot as plt\n",
    "from scipy.stats import pearsonr"
   ]
  },
  {
   "cell_type": "code",
   "execution_count": 4,
   "metadata": {},
   "outputs": [],
   "source": [
    "l1 = pd.read_csv(\"data/parsed/dup_cv_preds_2019/full_l1_preds_cor.csv\")\n",
    "l2 = pd.read_csv(\"data/parsed/dup_cv_preds_2019/full_l2_preds_cor.csv\")\n",
    "l3 = pd.read_csv(\"data/parsed/dup_cv_preds_2019/full_l3_preds_cor.csv\")"
   ]
  },
  {
   "cell_type": "code",
   "execution_count": 5,
   "metadata": {
    "scrolled": false
   },
   "outputs": [],
   "source": [
    "experiments = list(set(l1[\"experiment\"]))\n",
    "\n",
    "for i in range(int(len(experiments)/12)+1):\n",
    "    fig, axes = plt.subplots(nrows=4, ncols=3,figsize=(14,17.5))\n",
    "    axes = chain(*axes)\n",
    "    for exp,ax in zip(experiments[i*12:i*12+12],axes):\n",
    "        l1_exp = l1[l1[\"experiment\"] == exp]\n",
    "        l2_exp = l2[l2[\"experiment\"] == exp]\n",
    "        l3_exp = l3[l3[\"experiment\"] == exp]\n",
    "        \n",
    "        all_vals = list(l1_exp[\"rt\"])\n",
    "        all_vals.extend(list(l1_exp[\"pred\"]))\n",
    "        all_vals.extend(list(l2_exp[\"rt\"]))\n",
    "        all_vals.extend(list(l2_exp[\"pred\"]))\n",
    "        all_vals.extend(list(l3_exp[\"rt\"]))\n",
    "        all_vals.extend(list(l3_exp[\"pred\"]))\n",
    "\n",
    "        l1_r = round(pearsonr(l1_exp[\"rt\"],l1_exp[\"pred\"])[0],3)\n",
    "        l2_r = round(pearsonr(l2_exp[\"rt\"],l2_exp[\"pred\"])[0],3)\n",
    "        l3_r = round(pearsonr(l3_exp[\"rt\"],l3_exp[\"pred\"])[0],3)\n",
    "    \n",
    "        l1_mae = round(sum(abs(l1_exp[\"rt\"]-l1_exp[\"pred\"]))/len(l1_exp[\"pred\"]),1)\n",
    "        l2_mae = round(sum(abs(l2_exp[\"rt\"]-l2_exp[\"pred\"]))/len(l2_exp[\"pred\"]),1)\n",
    "        l3_mae = round(sum(abs(l3_exp[\"rt\"]-l3_exp[\"pred\"]))/len(l3_exp[\"pred\"]),1)\n",
    "        \n",
    "        ax.scatter(l1_exp[\"rt\"],l1_exp[\"pred\"],\n",
    "                   c=\"#deebf7\",\n",
    "                   marker=\"s\",\n",
    "                   label=\"Layer 1 (R=%s,MAE=%s)\" % (l1_r,l1_mae))\n",
    "        ax.scatter(l2_exp[\"rt\"],l2_exp[\"pred\"],\n",
    "                   c=\"#9ecae1\",\n",
    "                   marker=\"^\",\n",
    "                   label=\"Layer 2 (R=%s,MAE=%s)\" % (l2_r,l2_mae))\n",
    "        ax.scatter(l3_exp[\"rt\"],l3_exp[\"pred\"],\n",
    "                   c=\"#3182bd\",\n",
    "                   label=\"Layer 3 (R=%s,MAE=%s)\" % (l3_r,l3_mae))\n",
    "        ax.plot([max(all_vals),min(all_vals)],[max(all_vals),min(all_vals)],c=\"grey\",linestyle=\"--\")\n",
    "        ax.set_xlabel(\"Experimentally observed retention time (s)\")\n",
    "        ax.set_ylabel(\"Predicted retention time (s)\")\n",
    "        ax.set_title(exp)\n",
    "        ax.legend(loc=\"upper left\")\n",
    "    plt.tight_layout()\n",
    "    plt.savefig(\"figs/duplicate/scatter/scatter_perf_%s.svg\" % (i))\n",
    "    plt.close()"
   ]
  },
  {
   "cell_type": "code",
   "execution_count": null,
   "metadata": {},
   "outputs": [],
   "source": []
  }
 ],
 "metadata": {
  "kernelspec": {
   "display_name": "Python 3",
   "language": "python",
   "name": "python3"
  },
  "language_info": {
   "codemirror_mode": {
    "name": "ipython",
    "version": 3
   },
   "file_extension": ".py",
   "mimetype": "text/x-python",
   "name": "python",
   "nbconvert_exporter": "python",
   "pygments_lexer": "ipython3",
   "version": "3.7.5"
  }
 },
 "nbformat": 4,
 "nbformat_minor": 2
}
